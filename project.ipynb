{
 "cells": [
  {
   "cell_type": "markdown",
   "id": "13dbae26-5156-4c8d-b366-44f06482d650",
   "metadata": {},
   "source": [
    "# Data Science Tools and Ecosystem"
   ]
  },
  {
   "cell_type": "markdown",
   "id": "16273a12-3454-45e8-aa1a-ec972bb43104",
   "metadata": {},
   "source": [
    "## Introduction  \n",
    "This notebook explains the fouundations of data science"
   ]
  },
  {
   "cell_type": "markdown",
   "id": "54bacf8c-5e0f-4fcc-a14c-8905e9ec0026",
   "metadata": {},
   "source": [
    "## Data Science Languages  \n",
    "Some of the popular languages for data science include:  \n",
    "- Python  \n",
    "- R  \n",
    "- SQL\n"
   ]
  },
  {
   "cell_type": "markdown",
   "id": "c25db2c2-061d-4ffe-a9d5-097831c886cd",
   "metadata": {},
   "source": [
    "## Data Science Libraries  \n",
    "Here are some widely-used libraries in data science:  \n",
    "- NumPy  \n",
    "- Pandas  \n",
    "- Matplotlib "
   ]
  },
  {
   "cell_type": "markdown",
   "id": "e79282d8-17e3-4e3f-9360-9f17f04577fd",
   "metadata": {},
   "source": [
    "## Data Science Tools  \n",
    "| Tool           | Description                            |  \n",
    "|----------------|----------------------------------------|  \n",
    "| Jupyter Notebook | An interactive computing environment  | \n",
    "| Apache Spark   | Framework for big data processing      |  \n",
    "| Tableau        | Data visualization software            |\n"
   ]
  },
  {
   "cell_type": "markdown",
   "id": "03a1ecff-caae-4582-a589-8f10781db6db",
   "metadata": {},
   "source": [
    "## Arithmetic Expression Examples  \n",
    "This section demonstrates the use of arithmetic expressions in Python. \n",
    "\n",
    "Examples include addition, subtraction, multiplication, and division.\n"
   ]
  },
  {
   "cell_type": "code",
   "execution_count": 16,
   "id": "2af57420-df52-4a22-bea5-97e5ccf861ca",
   "metadata": {},
   "outputs": [
    {
     "data": {
      "text/plain": [
       "76"
      ]
     },
     "execution_count": 16,
     "metadata": {},
     "output_type": "execute_result"
    }
   ],
   "source": [
    "# Multiply and add numbers\n",
    "result = (3 * 16) + 28\n",
    "result\n"
   ]
  },
  {
   "cell_type": "code",
   "execution_count": 20,
   "id": "e29b9450-88be-4821-a87a-6d570172db91",
   "metadata": {},
   "outputs": [
    {
     "data": {
      "text/plain": [
       "8.0"
      ]
     },
     "execution_count": 20,
     "metadata": {},
     "output_type": "execute_result"
    }
   ],
   "source": [
    "# Convert minutes to hours\n",
    "minutes = 480\n",
    "hours = minutes / 60\n",
    "hours\n"
   ]
  },
  {
   "cell_type": "markdown",
   "id": "c52f2d48-966f-4f54-9999-41a86223ee14",
   "metadata": {},
   "source": [
    "## Objectives  \n",
    "- Learn about popular data science languages  \n",
    "- Explore key libraries used in data science  \n",
    "- Understand various data science tools  \n",
    "- Practice basic arithmetic operations in Python\n"
   ]
  },
  {
   "cell_type": "markdown",
   "id": "e06ab783-9e1f-45c0-8922-190a685e165f",
   "metadata": {},
   "source": [
    "## Author  \n",
    "Jacqueline\n"
   ]
  }
 ],
 "metadata": {
  "kernelspec": {
   "display_name": "Python [conda env:base] *",
   "language": "python",
   "name": "conda-base-py"
  },
  "language_info": {
   "codemirror_mode": {
    "name": "ipython",
    "version": 3
   },
   "file_extension": ".py",
   "mimetype": "text/x-python",
   "name": "python",
   "nbconvert_exporter": "python",
   "pygments_lexer": "ipython3",
   "version": "3.12.7"
  }
 },
 "nbformat": 4,
 "nbformat_minor": 5
}
