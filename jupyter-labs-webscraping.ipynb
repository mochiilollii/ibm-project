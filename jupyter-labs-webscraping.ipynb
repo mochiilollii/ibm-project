{
 "cells": [
  {
   "cell_type": "markdown",
   "metadata": {},
   "source": [
    "<p style=\"text-align:center\">\n",
    "    <a href=\"https://skills.network\" target=\"_blank\">\n",
    "    <img src=\"https://cf-courses-data.s3.us.cloud-object-storage.appdomain.cloud/assets/logos/SN_web_lightmode.png\" width=\"200\" alt=\"Skills Network Logo\">\n",
    "    </a>\n",
    "</p>\n"
   ]
  },
  {
   "cell_type": "markdown",
   "metadata": {},
   "source": [
    "# **Space X  Falcon 9 First Stage Landing Prediction**\n"
   ]
  },
  {
   "cell_type": "markdown",
   "metadata": {},
   "source": [
    "## Web scraping Falcon 9 and Falcon Heavy Launches Records from Wikipedia\n"
   ]
  },
  {
   "cell_type": "markdown",
   "metadata": {},
   "source": [
    "Estimated time needed: **40** minutes\n"
   ]
  },
  {
   "cell_type": "markdown",
   "metadata": {},
   "source": [
    "In this lab, you will be performing web scraping to collect Falcon 9 historical launch records from a Wikipedia page titled `List of Falcon 9 and Falcon Heavy launches`\n",
    "\n",
    "https://en.wikipedia.org/wiki/List_of_Falcon_9_and_Falcon_Heavy_launches\n"
   ]
  },
  {
   "cell_type": "markdown",
   "metadata": {},
   "source": [
    "![](https://cf-courses-data.s3.us.cloud-object-storage.appdomain.cloud/IBM-DS0321EN-SkillsNetwork/labs/module_1_L2/images/Falcon9_rocket_family.svg)\n"
   ]
  },
  {
   "cell_type": "markdown",
   "metadata": {},
   "source": [
    "Falcon 9 first stage will land successfully\n"
   ]
  },
  {
   "cell_type": "markdown",
   "metadata": {},
   "source": [
    "![](https://cf-courses-data.s3.us.cloud-object-storage.appdomain.cloud/IBMDeveloperSkillsNetwork-DS0701EN-SkillsNetwork/api/Images/landing_1.gif)\n"
   ]
  },
  {
   "cell_type": "markdown",
   "metadata": {},
   "source": [
    "Several examples of an unsuccessful landing are shown here:\n"
   ]
  },
  {
   "cell_type": "markdown",
   "metadata": {},
   "source": [
    "![](https://cf-courses-data.s3.us.cloud-object-storage.appdomain.cloud/IBMDeveloperSkillsNetwork-DS0701EN-SkillsNetwork/api/Images/crash.gif)\n"
   ]
  },
  {
   "cell_type": "markdown",
   "metadata": {},
   "source": [
    "More specifically, the launch records are stored in a HTML table shown below:\n"
   ]
  },
  {
   "cell_type": "markdown",
   "metadata": {},
   "source": [
    "![](https://cf-courses-data.s3.us.cloud-object-storage.appdomain.cloud/IBM-DS0321EN-SkillsNetwork/labs/module_1_L2/images/falcon9-launches-wiki.png)\n"
   ]
  },
  {
   "cell_type": "markdown",
   "metadata": {},
   "source": [
    "  ## Objectives\n",
    "Web scrap Falcon 9 launch records with `BeautifulSoup`: \n",
    "- Extract a Falcon 9 launch records HTML table from Wikipedia\n",
    "- Parse the table and convert it into a Pandas data frame\n"
   ]
  },
  {
   "cell_type": "markdown",
   "metadata": {},
   "source": [
    "First let's import required packages for this lab\n"
   ]
  },
  {
   "cell_type": "code",
   "execution_count": 1,
   "metadata": {},
   "outputs": [
    {
     "name": "stdout",
     "output_type": "stream",
     "text": [
      "Requirement already satisfied: beautifulsoup4 in c:\\users\\jacqu\\anaconda3\\lib\\site-packages (4.12.3)\n",
      "Requirement already satisfied: soupsieve>1.2 in c:\\users\\jacqu\\anaconda3\\lib\\site-packages (from beautifulsoup4) (2.5)\n",
      "Requirement already satisfied: requests in c:\\users\\jacqu\\anaconda3\\lib\\site-packages (2.32.3)\n",
      "Requirement already satisfied: charset-normalizer<4,>=2 in c:\\users\\jacqu\\anaconda3\\lib\\site-packages (from requests) (3.3.2)\n",
      "Requirement already satisfied: idna<4,>=2.5 in c:\\users\\jacqu\\anaconda3\\lib\\site-packages (from requests) (3.7)\n",
      "Requirement already satisfied: urllib3<3,>=1.21.1 in c:\\users\\jacqu\\anaconda3\\lib\\site-packages (from requests) (2.2.3)\n",
      "Requirement already satisfied: certifi>=2017.4.17 in c:\\users\\jacqu\\anaconda3\\lib\\site-packages (from requests) (2024.8.30)\n"
     ]
    }
   ],
   "source": [
    "!pip3 install beautifulsoup4\n",
    "!pip3 install requests"
   ]
  },
  {
   "cell_type": "code",
   "execution_count": 2,
   "metadata": {},
   "outputs": [],
   "source": [
    "import sys\n",
    "\n",
    "import requests\n",
    "from bs4 import BeautifulSoup\n",
    "import re\n",
    "import unicodedata\n",
    "import pandas as pd"
   ]
  },
  {
   "cell_type": "markdown",
   "metadata": {},
   "source": [
    "and we will provide some helper functions for you to process web scraped HTML table\n"
   ]
  },
  {
   "cell_type": "code",
   "execution_count": 4,
   "metadata": {},
   "outputs": [],
   "source": [
    "def date_time(table_cells):\n",
    "    \"\"\"\n",
    "    This function returns the data and time from the HTML  table cell\n",
    "    Input: the  element of a table data cell extracts extra row\n",
    "    \"\"\"\n",
    "    return [data_time.strip() for data_time in list(table_cells.strings)][0:2]\n",
    "\n",
    "def booster_version(table_cells):\n",
    "    \"\"\"\n",
    "    This function returns the booster version from the HTML  table cell \n",
    "    Input: the  element of a table data cell extracts extra row\n",
    "    \"\"\"\n",
    "    out=''.join([booster_version for i,booster_version in enumerate( table_cells.strings) if i%2==0][0:-1])\n",
    "    return out\n",
    "\n",
    "def landing_status(table_cells):\n",
    "    \"\"\"\n",
    "    This function returns the landing status from the HTML table cell \n",
    "    Input: the  element of a table data cell extracts extra row\n",
    "    \"\"\"\n",
    "    out=[i for i in table_cells.strings][0]\n",
    "    return out\n",
    "\n",
    "\n",
    "def get_mass(table_cells):\n",
    "    mass=unicodedata.normalize(\"NFKD\", table_cells.text).strip()\n",
    "    if mass:\n",
    "        mass.find(\"kg\")\n",
    "        new_mass=mass[0:mass.find(\"kg\")+2]\n",
    "    else:\n",
    "        new_mass=0\n",
    "    return new_mass\n",
    "\n",
    "\n",
    "def extract_column_from_header(row):\n",
    "    \"\"\"\n",
    "    This function returns the landing status from the HTML table cell \n",
    "    Input: the  element of a table data cell extracts extra row\n",
    "    \"\"\"\n",
    "    if (row.br):\n",
    "        row.br.extract()\n",
    "    if row.a:\n",
    "        row.a.extract()\n",
    "    if row.sup:\n",
    "        row.sup.extract()\n",
    "        \n",
    "    colunm_name = ' '.join(row.contents)\n",
    "    \n",
    "    # Filter the digit and empty names\n",
    "    if not(colunm_name.strip().isdigit()):\n",
    "        colunm_name = colunm_name.strip()\n",
    "        return colunm_name    \n"
   ]
  },
  {
   "cell_type": "markdown",
   "metadata": {},
   "source": [
    "To keep the lab tasks consistent, you will be asked to scrape the data from a snapshot of the  `List of Falcon 9 and Falcon Heavy launches` Wikipage updated on\n",
    "`9th June 2021`\n"
   ]
  },
  {
   "cell_type": "code",
   "execution_count": 6,
   "metadata": {},
   "outputs": [],
   "source": [
    "static_url = \"https://en.wikipedia.org/w/index.php?title=List_of_Falcon_9_and_Falcon_Heavy_launches&oldid=1027686922\""
   ]
  },
  {
   "cell_type": "markdown",
   "metadata": {},
   "source": [
    "Next, request the HTML page from the above URL and get a `response` object\n"
   ]
  },
  {
   "cell_type": "markdown",
   "metadata": {},
   "source": [
    "### TASK 1: Request the Falcon9 Launch Wiki page from its URL\n"
   ]
  },
  {
   "cell_type": "markdown",
   "metadata": {},
   "source": [
    "First, let's perform an HTTP GET method to request the Falcon9 Launch HTML page, as an HTTP response.\n"
   ]
  },
  {
   "cell_type": "code",
   "execution_count": 14,
   "metadata": {},
   "outputs": [
    {
     "name": "stdout",
     "output_type": "stream",
     "text": [
      "Request successful!\n",
      "<!DOCTYPE html>\n",
      "<html class=\"client-nojs vector-feature-language-in-header-enabled vector-feature-language-in-main-page-header-disabled vector-feature-sticky-header-disabled vector-feature-page-tools-pinned-disabled vector-feature-toc-pinned-clientpref-1 vector-feature-main-menu-pinned-disabled vector-feature-limited-width-clientpref-1 vector-feature-limited-width-content-enabled vector-feature-custom-font-size-clientpref-1 vector-feature-appearance-pinned-clientpref-1 vector-feature-night-mode-\n"
     ]
    }
   ],
   "source": [
    "# use requests.get() method with the provided static_url\n",
    "# assign the response to a object\n",
    "import requests\n",
    "\n",
    "# URL for Falcon9 Launch Wikipedia page\n",
    "url = \"https://en.wikipedia.org/wiki/Falcon_9\"\n",
    "\n",
    "# Send the GET request\n",
    "response = requests.get(url)\n",
    "\n",
    "# Check if the request was successful\n",
    "if response.status_code == 200:\n",
    "    print(\"Request successful!\")\n",
    "    # Display the first 500 characters of the HTML page\n",
    "    print(response.text[:500])\n",
    "else:\n",
    "    print(\"Failed to retrieve the page. Status code:\", response.status_code)\n"
   ]
  },
  {
   "cell_type": "markdown",
   "metadata": {},
   "source": [
    "Create a `BeautifulSoup` object from the HTML `response`\n"
   ]
  },
  {
   "cell_type": "code",
   "execution_count": 17,
   "metadata": {},
   "outputs": [
    {
     "name": "stdout",
     "output_type": "stream",
     "text": [
      "Request successful!\n",
      "<!DOCTYPE html>\n",
      "<html class=\"client-nojs vector-feature-language-in-header-enabled vector-feature-language-in-main-page-header-disabled vector-feature-sticky-header-disabled vector-feature-page-tools-pinned-disabled vector-feature-toc-pinned-clientpref-1 vector-feature-main-menu-pinned-disabled vector-feature-limited-width-clientpref-1 vector-feature-limited-width-content-enabled vector-feature-custom-font-size-clientpref-1 vector-feature-appearance-pinned-clientpref-1 vector-feature-night-mode-\n"
     ]
    }
   ],
   "source": [
    "# Use BeautifulSoup() to create a BeautifulSoup object from a response text content\n",
    "import requests\n",
    "from bs4 import BeautifulSoup\n",
    "\n",
    "# URL for Falcon9 Launch Wikipedia page\n",
    "url = \"https://en.wikipedia.org/wiki/Falcon_9\"\n",
    "\n",
    "# Send the GET request\n",
    "response = requests.get(url)\n",
    "\n",
    "# Check if the request was successful\n",
    "if response.status_code == 200:\n",
    "    print(\"Request successful!\")\n",
    "    \n",
    "    # Create a BeautifulSoup object and parse the HTML\n",
    "    soup = BeautifulSoup(response.text, 'html.parser')\n",
    "    \n",
    "    # Display the first 500 characters of the parsed HTML\n",
    "    print(soup.prettify()[:500])  # This will print the formatted HTML\n",
    "else:\n",
    "    print(\"Failed to retrieve the page. Status code:\", response.status_code)\n"
   ]
  },
  {
   "cell_type": "markdown",
   "metadata": {},
   "source": [
    "Print the page title to verify if the `BeautifulSoup` object was created properly \n"
   ]
  },
  {
   "cell_type": "code",
   "execution_count": 19,
   "metadata": {},
   "outputs": [
    {
     "name": "stdout",
     "output_type": "stream",
     "text": [
      "Request successful!\n",
      "Page Title: Falcon 9 - Wikipedia\n"
     ]
    }
   ],
   "source": [
    "# Use soup.title attribute\n",
    "import requests\n",
    "from bs4 import BeautifulSoup\n",
    "\n",
    "# URL for Falcon9 Launch Wikipedia page\n",
    "url = \"https://en.wikipedia.org/wiki/Falcon_9\"\n",
    "\n",
    "# Send the GET request\n",
    "response = requests.get(url)\n",
    "\n",
    "# Check if the request was successful\n",
    "if response.status_code == 200:\n",
    "    print(\"Request successful!\")\n",
    "    \n",
    "    # Create a BeautifulSoup object and parse the HTML\n",
    "    soup = BeautifulSoup(response.text, 'html.parser')\n",
    "    \n",
    "    # Extract the title of the page\n",
    "    page_title = soup.title.string\n",
    "    \n",
    "    # Print the page title\n",
    "    print(\"Page Title:\", page_title)\n",
    "else:\n",
    "    print(\"Failed to retrieve the page. Status code:\", response.status_code)\n"
   ]
  },
  {
   "cell_type": "markdown",
   "metadata": {},
   "source": [
    "### TASK 2: Extract all column/variable names from the HTML table header\n"
   ]
  },
  {
   "cell_type": "markdown",
   "metadata": {},
   "source": [
    "Next, we want to collect all relevant column names from the HTML table header\n"
   ]
  },
  {
   "cell_type": "markdown",
   "metadata": {},
   "source": [
    "Let's try to find all tables on the wiki page first. If you need to refresh your memory about `BeautifulSoup`, please check the external reference link towards the end of this lab\n"
   ]
  },
  {
   "cell_type": "code",
   "execution_count": 21,
   "metadata": {},
   "outputs": [
    {
     "name": "stdout",
     "output_type": "stream",
     "text": [
      "Request successful!\n",
      "Page Title: Falcon 9 - Wikipedia\n",
      "\n",
      "Table 1:\n",
      "Column Names: ['Function', 'Manufacturer', 'Country of origin', 'Cost per launch', 'Size', 'Height', 'Diameter', 'Mass', 'Stages', 'Capacity', 'Payload toLEO', 'Orbital inclination', 'Mass', 'Payload toGTO', 'Orbital inclination', 'Mass', 'Payload toMars', 'Mass', '', 'Associated rockets', 'Based on', 'Derivative work', 'Launch history', 'Status', 'Launch sites', 'Total launches', 'Success(es)', 'Failure(s)', 'Partial failure(s)', 'Notable outcome(s)', 'Landings', 'First flight', 'Last flight', 'First stage', 'Height', 'Diameter', 'Powered by', 'Maximum thrust', 'Specific impulse', 'Burn time', 'Propellant', 'Second stage', 'Height', 'Diameter', 'Powered by', 'Maximum thrust', 'Specific impulse', 'Burn time', 'Propellant']\n",
      "\n",
      "Table 2:\n",
      "No column headers found in this table.\n",
      "\n",
      "Table 3:\n",
      "No column headers found in this table.\n",
      "\n",
      "Table 4:\n",
      "No column headers found in this table.\n",
      "\n",
      "Table 5:\n",
      "Column Names: ['Version', 'v1.0(retired)', 'v1.1(retired)', 'Full Thrust[8]', 'Block 3 and Block 4 (retired)', 'Block 5(active)[115][116]', 'Stage 1 engines', 'Stage 2 engines', 'Max. height (m)', 'Diameter (m)', 'Initial thrust', 'Takeoff mass', 'Fairing diameter (m)', 'Payload toLEO(kg)(fromCape Canaveral)', 'Payload toGTO(kg)', 'Success ratio']\n",
      "\n",
      "Table 6:\n",
      "Column Names: ['vteSpaceX Dragon 1andDragon 2', 'Spacecraft', 'Hardware', 'Missions', 'Demo flights', 'ISSlogistics', 'Crewed missions']\n",
      "\n",
      "Table 7:\n",
      "Column Names: ['Demo flights', 'ISSlogistics', 'Crewed missions']\n",
      "\n",
      "Table 8:\n",
      "Column Names: ['vteSpaceX', 'Launch vehicles', 'Current', 'In development', 'Retired', 'Cancelled', 'Spacecraft', 'Cargo', 'Crewed', 'Test vehicles', 'Current', 'Retired', 'Unflown', 'Rocket engines', 'Lists of missions', 'Launch facilities', 'Orbital', 'Atmospheric', 'Landing sites', 'Other facilities', 'Support', 'Contracts', 'R&D programs', 'Key people', 'Related']\n",
      "\n",
      "Table 9:\n",
      "Column Names: ['Current', 'In development', 'Retired', 'Cancelled']\n",
      "\n",
      "Table 10:\n",
      "Column Names: ['Cargo', 'Crewed']\n",
      "\n",
      "Table 11:\n",
      "Column Names: ['Current', 'Retired', 'Unflown']\n",
      "\n",
      "Table 12:\n",
      "Column Names: ['Orbital', 'Atmospheric']\n",
      "\n",
      "Table 13:\n",
      "Column Names: ['vteSpaceX missions and payloads', 'Launch vehicles', 'Falcon 1 missions', 'Falcon 9 missions', 'Demonstrations', 'ISSlogistics', 'Crewed', 'Commercialsatellites', 'Scientificsatellites', 'Militarysatellites', 'Starlink', 'Rideshares', 'Transporter', 'Bandwagon', 'Falcon Heavy missions', 'Starshipmissions', 'Flight tests', 'Crewed', 'Commercialsatellites']\n",
      "\n",
      "Table 14:\n",
      "Column Names: ['Demonstrations', 'ISSlogistics', 'Crewed', 'Commercialsatellites', 'Scientificsatellites', 'Militarysatellites', 'Starlink', 'Rideshares', 'Transporter', 'Bandwagon']\n",
      "\n",
      "Table 15:\n",
      "Column Names: ['Transporter', 'Bandwagon']\n",
      "\n",
      "Table 16:\n",
      "Column Names: ['Flight tests', 'Crewed', 'Commercialsatellites']\n",
      "\n",
      "Table 17:\n",
      "Column Names: ['vteOrbital launch systems', 'Current', 'In development', 'Retired', 'Classes']\n",
      "\n",
      "Table 18:\n",
      "Column Names: ['vteReusable launch systemsandspacecraft', 'Launch systems', 'Active', 'Retired', 'In development', 'Proposals', 'Canceled', 'Spacecraft', 'Active', 'Retired', 'In development', 'Proposals', 'Cancelled']\n",
      "\n",
      "Table 19:\n",
      "Column Names: ['Launch systems', 'Active', 'Retired', 'In development', 'Proposals', 'Canceled']\n",
      "\n",
      "Table 20:\n",
      "Column Names: ['Active', 'Retired', 'In development', 'Proposals', 'Canceled']\n",
      "\n",
      "Table 21:\n",
      "Column Names: ['Spacecraft', 'Active', 'Retired', 'In development', 'Proposals', 'Cancelled']\n",
      "\n",
      "Table 22:\n",
      "Column Names: ['Active', 'Retired', 'In development', 'Proposals', 'Cancelled']\n",
      "\n",
      "Table 23:\n",
      "Column Names: ['vteOrbitallaunch systemsdeveloped in the United States', 'Active', 'In development', 'Retired']\n",
      "\n",
      "Table 24:\n",
      "Column Names: ['vteRocket families', 'Carrier rockets', 'China', 'Europe / ESA', 'India', 'Japan', 'Soviet Union / Russia', 'Soviet Union / Ukraine', 'United States', 'Other nations', 'Sounding rockets', 'Missiles']\n",
      "\n",
      "Table 25:\n",
      "Column Names: ['China', 'Europe / ESA', 'India', 'Japan', 'Soviet Union / Russia', 'Soviet Union / Ukraine', 'United States', 'Other nations']\n"
     ]
    }
   ],
   "source": [
    "# Use the find_all function in the BeautifulSoup object, with element type `table`\n",
    "# Assign the result to a list called `html_tables`\n",
    "import requests\n",
    "from bs4 import BeautifulSoup\n",
    "\n",
    "# URL for Falcon9 Launch Wikipedia page\n",
    "url = \"https://en.wikipedia.org/wiki/Falcon_9\"\n",
    "\n",
    "# Send the GET request\n",
    "response = requests.get(url)\n",
    "\n",
    "# Check if the request was successful\n",
    "if response.status_code == 200:\n",
    "    print(\"Request successful!\")\n",
    "    \n",
    "    # Create a BeautifulSoup object and parse the HTML\n",
    "    soup = BeautifulSoup(response.text, 'html.parser')\n",
    "    \n",
    "    # Extract the title of the page\n",
    "    page_title = soup.title.string\n",
    "    print(\"Page Title:\", page_title)\n",
    "    \n",
    "    # Find all tables on the page\n",
    "    tables = soup.find_all('table')\n",
    "    \n",
    "    # Loop through all found tables\n",
    "    for i, table in enumerate(tables, start=1):\n",
    "        print(f\"\\nTable {i}:\")\n",
    "        \n",
    "        # Find all table headers (<th>) in the current table\n",
    "        headers = table.find_all('th')\n",
    "        \n",
    "        # Extract and print the text from each header\n",
    "        header_names = [header.get_text(strip=True) for header in headers]\n",
    "        \n",
    "        # Print the extracted column names\n",
    "        if header_names:\n",
    "            print(\"Column Names:\", header_names)\n",
    "        else:\n",
    "            print(\"No column headers found in this table.\")\n",
    "else:\n",
    "    print(\"Failed to retrieve the page. Status code:\", response.status_code)\n"
   ]
  },
  {
   "cell_type": "markdown",
   "metadata": {},
   "source": [
    "Starting from the third table is our target table contains the actual launch records.\n"
   ]
  },
  {
   "cell_type": "code",
   "execution_count": 26,
   "metadata": {},
   "outputs": [
    {
     "name": "stdout",
     "output_type": "stream",
     "text": [
      "<table class=\"wikitable\">\n",
      "<tbody><tr>\n",
      "<td>Height\n",
      "</td>\n",
      "<td>41.2 m / 135.2 ft\n",
      "</td></tr>\n",
      "<tr>\n",
      "<td>Height (with interstage)\n",
      "</td>\n",
      "<td>47.7 m / 156.5 ft\n",
      "</td></tr>\n",
      "<tr>\n",
      "<td>Diameter\n",
      "</td>\n",
      "<td>3.7 m / 12 ft\n",
      "</td></tr>\n",
      "<tr>\n",
      "<td>Empty Mass\n",
      "</td>\n",
      "<td>25,600 kg / 56,423 lb\n",
      "</td></tr>\n",
      "<tr>\n",
      "<td>Propellant Mass\n",
      "</td>\n",
      "<td>395,700 kg/ 872,369 lb\n",
      "</td></tr>\n",
      "<tr>\n",
      "<td>Structure Type\n",
      "</td>\n",
      "<td>LOX tank: <a href=\"/wiki/Monocoque\" title=\"Monocoque\">monocoque</a>\n",
      "</td></tr>\n",
      "<tr>\n",
      "<td>\n",
      "</td>\n",
      "<td>Fuel tank: skin and stringer\n",
      "</td></tr>\n",
      "<tr>\n",
      "<td>Structure Material\n",
      "</td>\n",
      "<td>Aluminum lithium skin; aluminum domes\n",
      "</td></tr>\n",
      "<tr>\n",
      "<td>Landing Legs\n",
      "</td>\n",
      "<td>Number: 4\n",
      "</td></tr>\n",
      "<tr>\n",
      "<td>\n",
      "</td>\n",
      "<td>Material: <a class=\"mw-redirect\" href=\"/wiki/Carbon_fiber\" title=\"Carbon fiber\">carbon fiber</a>; <a class=\"mw-redirect\" href=\"/wiki/Aluminum_honeycomb\" title=\"Aluminum honeycomb\">aluminum honeycomb</a>\n",
      "</td></tr>\n",
      "<tr>\n",
      "<td>Number of Merlin Engines\n",
      "</td>\n",
      "<td>9 sea level\n",
      "</td></tr>\n",
      "<tr>\n",
      "<td>Propellant\n",
      "</td>\n",
      "<td>LOX / RP-1\n",
      "</td></tr>\n",
      "<tr>\n",
      "<td>Thrust at Sea Level\n",
      "</td>\n",
      "<td>7,607 kN / 1,710,000 lbf\n",
      "</td></tr>\n",
      "<tr>\n",
      "<td>Thrust in Vacuum\n",
      "</td>\n",
      "<td>8,227 kN / 1,849,500 lbf\n",
      "</td></tr>\n",
      "<tr>\n",
      "<td>Specific Impulse (sea-level)\n",
      "</td>\n",
      "<td>283 sec.\n",
      "</td></tr>\n",
      "<tr>\n",
      "<td>Specific Impulse (vacuum sec)\n",
      "</td>\n",
      "<td>312 sec.\n",
      "</td></tr>\n",
      "<tr>\n",
      "<td>Burn Time\n",
      "</td>\n",
      "<td>162 sec.\n",
      "</td></tr>\n",
      "<tr>\n",
      "<td>Ascent Attitude Control – Pitch, Yaw\n",
      "</td>\n",
      "<td>Gimbaled engines\n",
      "</td></tr>\n",
      "<tr>\n",
      "<td>Ascent Attitude Control – Roll\n",
      "</td>\n",
      "<td>Gimbaled engines\n",
      "</td></tr>\n",
      "<tr>\n",
      "<td>Coast/Descent Attitude Control\n",
      "</td>\n",
      "<td>Nitrogen gas thrusters and grid fins\n",
      "</td></tr></tbody></table>\n"
     ]
    }
   ],
   "source": [
    "# Assuming 'tables' contains all the tables from the Wikipedia page\n",
    "if len(tables) > 2:\n",
    "    third_table = tables[2]\n",
    "    print(third_table)\n",
    "else:\n",
    "    print(\"There are fewer than 3 tables on this page.\")\n"
   ]
  },
  {
   "cell_type": "markdown",
   "metadata": {},
   "source": [
    "You should able to see the columns names embedded in the table header elements `<th>` as follows:\n"
   ]
  },
  {
   "cell_type": "markdown",
   "metadata": {},
   "source": [
    "```\n",
    "<tr>\n",
    "<th scope=\"col\">Flight No.\n",
    "</th>\n",
    "<th scope=\"col\">Date and<br/>time (<a href=\"/wiki/Coordinated_Universal_Time\" title=\"Coordinated Universal Time\">UTC</a>)\n",
    "</th>\n",
    "<th scope=\"col\"><a href=\"/wiki/List_of_Falcon_9_first-stage_boosters\" title=\"List of Falcon 9 first-stage boosters\">Version,<br/>Booster</a> <sup class=\"reference\" id=\"cite_ref-booster_11-0\"><a href=\"#cite_note-booster-11\">[b]</a></sup>\n",
    "</th>\n",
    "<th scope=\"col\">Launch site\n",
    "</th>\n",
    "<th scope=\"col\">Payload<sup class=\"reference\" id=\"cite_ref-Dragon_12-0\"><a href=\"#cite_note-Dragon-12\">[c]</a></sup>\n",
    "</th>\n",
    "<th scope=\"col\">Payload mass\n",
    "</th>\n",
    "<th scope=\"col\">Orbit\n",
    "</th>\n",
    "<th scope=\"col\">Customer\n",
    "</th>\n",
    "<th scope=\"col\">Launch<br/>outcome\n",
    "</th>\n",
    "<th scope=\"col\"><a href=\"/wiki/Falcon_9_first-stage_landing_tests\" title=\"Falcon 9 first-stage landing tests\">Booster<br/>landing</a>\n",
    "</th></tr>\n",
    "```\n"
   ]
  },
  {
   "cell_type": "markdown",
   "metadata": {},
   "source": [
    "Next, we just need to iterate through the `<th>` elements and apply the provided `extract_column_from_header()` to extract column name one by one\n"
   ]
  },
  {
   "cell_type": "code",
   "execution_count": 33,
   "metadata": {},
   "outputs": [
    {
     "name": "stdout",
     "output_type": "stream",
     "text": [
      "[]\n"
     ]
    }
   ],
   "source": [
    "# Assuming 'tables' contains all the tables from the Wikipedia page\n",
    "if len(tables) > 2:\n",
    "    first_launch_table = tables[2]  # Define the third table\n",
    "\n",
    "    column_names = []\n",
    "\n",
    "    # Define a function to process the column header text\n",
    "    def extract_column_from_header(header):\n",
    "        return header.get_text(strip=True)  # Strip whitespace around the text\n",
    "\n",
    "    # Find all <th> elements (headers) in the third table\n",
    "    headers = first_launch_table.find_all('th')\n",
    "\n",
    "    # Iterate over each header element, extract the column name, and append to column_names\n",
    "    for header in headers:\n",
    "        column_name = extract_column_from_header(header)\n",
    "        if column_name is not None and len(column_name) > 0:  # Check if the column name is non-empty\n",
    "            column_names.append(column_name)\n",
    "\n",
    "    # Print the list of column names\n",
    "    print(column_names)\n",
    "else:\n",
    "    print(\"There are fewer than 3 tables on this page.\")\n"
   ]
  },
  {
   "cell_type": "markdown",
   "metadata": {},
   "source": [
    "Check the extracted column names\n"
   ]
  },
  {
   "cell_type": "code",
   "execution_count": 36,
   "metadata": {},
   "outputs": [
    {
     "name": "stdout",
     "output_type": "stream",
     "text": [
      "[]\n"
     ]
    }
   ],
   "source": [
    "print(column_names)"
   ]
  },
  {
   "cell_type": "markdown",
   "metadata": {},
   "source": [
    "## TASK 3: Create a data frame by parsing the launch HTML tables\n"
   ]
  },
  {
   "cell_type": "markdown",
   "metadata": {},
   "source": [
    "We will create an empty dictionary with keys from the extracted column names in the previous task. Later, this dictionary will be converted into a Pandas dataframe\n"
   ]
  },
  {
   "cell_type": "code",
   "execution_count": 40,
   "metadata": {},
   "outputs": [
    {
     "ename": "KeyError",
     "evalue": "'Date and time ( )'",
     "output_type": "error",
     "traceback": [
      "\u001b[1;31m---------------------------------------------------------------------------\u001b[0m",
      "\u001b[1;31mKeyError\u001b[0m                                  Traceback (most recent call last)",
      "Cell \u001b[1;32mIn[40], line 4\u001b[0m\n\u001b[0;32m      1\u001b[0m launch_dict\u001b[38;5;241m=\u001b[39m \u001b[38;5;28mdict\u001b[39m\u001b[38;5;241m.\u001b[39mfromkeys(column_names)\n\u001b[0;32m      3\u001b[0m \u001b[38;5;66;03m# Remove an irrelvant column\u001b[39;00m\n\u001b[1;32m----> 4\u001b[0m \u001b[38;5;28;01mdel\u001b[39;00m launch_dict[\u001b[38;5;124m'\u001b[39m\u001b[38;5;124mDate and time ( )\u001b[39m\u001b[38;5;124m'\u001b[39m]\n\u001b[0;32m      6\u001b[0m \u001b[38;5;66;03m# Let's initial the launch_dict with each value to be an empty list\u001b[39;00m\n\u001b[0;32m      7\u001b[0m launch_dict[\u001b[38;5;124m'\u001b[39m\u001b[38;5;124mFlight No.\u001b[39m\u001b[38;5;124m'\u001b[39m] \u001b[38;5;241m=\u001b[39m []\n",
      "\u001b[1;31mKeyError\u001b[0m: 'Date and time ( )'"
     ]
    }
   ],
   "source": [
    "launch_dict= dict.fromkeys(column_names)\n",
    "\n",
    "# Remove an irrelvant column\n",
    "del launch_dict['Date and time ( )']\n",
    "\n",
    "# Let's initial the launch_dict with each value to be an empty list\n",
    "launch_dict['Flight No.'] = []\n",
    "launch_dict['Launch site'] = []\n",
    "launch_dict['Payload'] = []\n",
    "launch_dict['Payload mass'] = []\n",
    "launch_dict['Orbit'] = []\n",
    "launch_dict['Customer'] = []\n",
    "launch_dict['Launch outcome'] = []\n",
    "# Added some new columns\n",
    "launch_dict['Version Booster']=[]\n",
    "launch_dict['Booster landing']=[]\n",
    "launch_dict['Date']=[]\n",
    "launch_dict['Time']=[]"
   ]
  },
  {
   "cell_type": "markdown",
   "metadata": {},
   "source": [
    "Next, we just need to fill up the `launch_dict` with launch records extracted from table rows.\n"
   ]
  },
  {
   "cell_type": "markdown",
   "metadata": {},
   "source": [
    "Usually, HTML tables in Wiki pages are likely to contain unexpected annotations and other types of noises, such as reference links `B0004.1[8]`, missing values `N/A [e]`, inconsistent formatting, etc.\n"
   ]
  },
  {
   "cell_type": "markdown",
   "metadata": {},
   "source": [
    "To simplify the parsing process, we have provided an incomplete code snippet below to help you to fill up the `launch_dict`. Please complete the following code snippet with TODOs or you can choose to write your own logic to parse all launch tables:\n"
   ]
  },
  {
   "cell_type": "code",
   "execution_count": null,
   "metadata": {},
   "outputs": [],
   "source": [
    "extracted_row = 0\n",
    "#Extract each table \n",
    "for table_number,table in enumerate(soup.find_all('table',\"wikitable plainrowheaders collapsible\")):\n",
    "   # get table row \n",
    "    for rows in table.find_all(\"tr\"):\n",
    "        #check to see if first table heading is as number corresponding to launch a number \n",
    "        if rows.th:\n",
    "            if rows.th.string:\n",
    "                flight_number=rows.th.string.strip()\n",
    "                flag=flight_number.isdigit()\n",
    "        else:\n",
    "            flag=False\n",
    "        #get table element \n",
    "        row=rows.find_all('td')\n",
    "        #if it is number save cells in a dictonary \n",
    "        if flag:\n",
    "            extracted_row += 1\n",
    "            # Flight Number value\n",
    "            # TODO: Append the flight_number into launch_dict with key `Flight No.`\n",
    "            #print(flight_number)\n",
    "            datatimelist=date_time(row[0])\n",
    "            \n",
    "            # Date value\n",
    "            # TODO: Append the date into launch_dict with key `Date`\n",
    "            date = datatimelist[0].strip(',')\n",
    "            #print(date)\n",
    "            \n",
    "            # Time value\n",
    "            # TODO: Append the time into launch_dict with key `Time`\n",
    "            time = datatimelist[1]\n",
    "            #print(time)\n",
    "              \n",
    "            # Booster version\n",
    "            # TODO: Append the bv into launch_dict with key `Version Booster`\n",
    "            bv=booster_version(row[1])\n",
    "            if not(bv):\n",
    "                bv=row[1].a.string\n",
    "            print(bv)\n",
    "            \n",
    "            # Launch Site\n",
    "            # TODO: Append the bv into launch_dict with key `Launch Site`\n",
    "            launch_site = row[2].a.string\n",
    "            #print(launch_site)\n",
    "            \n",
    "            # Payload\n",
    "            # TODO: Append the payload into launch_dict with key `Payload`\n",
    "            payload = row[3].a.string\n",
    "            #print(payload)\n",
    "            \n",
    "            # Payload Mass\n",
    "            # TODO: Append the payload_mass into launch_dict with key `Payload mass`\n",
    "            payload_mass = get_mass(row[4])\n",
    "            #print(payload)\n",
    "            \n",
    "            # Orbit\n",
    "            # TODO: Append the orbit into launch_dict with key `Orbit`\n",
    "            orbit = row[5].a.string\n",
    "            #print(orbit)\n",
    "            \n",
    "            # Customer\n",
    "            # TODO: Append the customer into launch_dict with key `Customer`\n",
    "            customer = row[6].a.string\n",
    "            #print(customer)\n",
    "            \n",
    "            # Launch outcome\n",
    "            # TODO: Append the launch_outcome into launch_dict with key `Launch outcome`\n",
    "            launch_outcome = list(row[7].strings)[0]\n",
    "            #print(launch_outcome)\n",
    "            \n",
    "            # Booster landing\n",
    "            # TODO: Append the launch_outcome into launch_dict with key `Booster landing`\n",
    "            booster_landing = landing_status(row[8])\n",
    "            #print(booster_landing)\n",
    "            "
   ]
  },
  {
   "cell_type": "markdown",
   "metadata": {},
   "source": [
    "After you have fill in the parsed launch record values into `launch_dict`, you can create a dataframe from it.\n"
   ]
  },
  {
   "cell_type": "code",
   "execution_count": null,
   "metadata": {},
   "outputs": [],
   "source": [
    "df= pd.DataFrame({ key:pd.Series(value) for key, value in launch_dict.items() })"
   ]
  },
  {
   "cell_type": "markdown",
   "metadata": {},
   "source": [
    "We can now export it to a <b>CSV</b> for the next section, but to make the answers consistent and in case you have difficulties finishing this lab. \n",
    "\n",
    "Following labs will be using a provided dataset to make each lab independent. \n"
   ]
  },
  {
   "cell_type": "markdown",
   "metadata": {},
   "source": [
    "<code>df.to_csv('spacex_web_scraped.csv', index=False)</code>\n"
   ]
  },
  {
   "cell_type": "markdown",
   "metadata": {},
   "source": [
    "## Authors\n"
   ]
  },
  {
   "cell_type": "markdown",
   "metadata": {},
   "source": [
    "<a href=\"https://www.linkedin.com/in/yan-luo-96288783/\">Yan Luo</a>\n"
   ]
  },
  {
   "cell_type": "markdown",
   "metadata": {},
   "source": [
    "<a href=\"https://www.linkedin.com/in/nayefaboutayoun/\">Nayef Abou Tayoun</a>\n"
   ]
  },
  {
   "cell_type": "markdown",
   "metadata": {},
   "source": [
    "<!--\n",
    "## Change Log\n",
    "-->\n"
   ]
  },
  {
   "cell_type": "markdown",
   "metadata": {},
   "source": [
    "<!--\n",
    "| Date (YYYY-MM-DD) | Version | Changed By | Change Description      |\n",
    "| ----------------- | ------- | ---------- | ----------------------- |\n",
    "| 2021-06-09        | 1.0     | Yan Luo    | Tasks updates           |\n",
    "| 2020-11-10        | 1.0     | Nayef      | Created the initial version |\n",
    "-->\n"
   ]
  },
  {
   "cell_type": "markdown",
   "metadata": {},
   "source": [
    "Copyright © 2021 IBM Corporation. All rights reserved.\n"
   ]
  }
 ],
 "metadata": {
  "kernelspec": {
   "display_name": "Python 3 (ipykernel)",
   "language": "python",
   "name": "python3"
  },
  "language_info": {
   "codemirror_mode": {
    "name": "ipython",
    "version": 3
   },
   "file_extension": ".py",
   "mimetype": "text/x-python",
   "name": "python",
   "nbconvert_exporter": "python",
   "pygments_lexer": "ipython3",
   "version": "3.12.7"
  },
  "prev_pub_hash": "64f1b0aac408997185c47caba18730e0028b75e7934a0e5bf0ae73c5cb7ba677"
 },
 "nbformat": 4,
 "nbformat_minor": 4
}
